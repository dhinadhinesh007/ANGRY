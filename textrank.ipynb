{
 "cells": [
  {
   "cell_type": "markdown",
   "metadata": {},
   "source": [
    "<h1><center>TextRank </center></h1>"
   ]
  },
  {
   "cell_type": "code",
   "execution_count": null,
   "metadata": {},
   "outputs": [],
   "source": [
    "from sumy.parsers.plaintext import PlaintextParser\n",
    "from sumy.summarizers.text_rank import TextRankSummarizer\n",
    "import PSO\n",
    "import Utils\n",
    "\n",
    "fn = \"history_ncert_class10/chap_3.txt\" # sys.argv[1]\n",
    "ref_dir_n = \"history_ncert_class10/annotations/chapter3\" # sys.argv[2]\n",
    "summary_length = 75\n",
    "\n",
    "parser = PlaintextParser.from_file(fn, Utils.Tokenizer())\n",
    "\n",
    "# load file\n",
    "document, ref_sum = Utils.load_documents(fn, ref_dir_n)\n",
    "processed_ref_sum = Utils.process_documents(ref_sum)\n",
    "ref_sum = PSO.join_docs(processed_ref_sum)"
   ]
  },
  {
   "cell_type": "code",
   "execution_count": null,
   "metadata": {},
   "outputs": [],
   "source": [
    "print(document)"
   ]
  },
  {
   "cell_type": "markdown",
   "metadata": {},
   "source": [
    "We use sumy library to implement TextRank"
   ]
  },
  {
   "cell_type": "code",
   "execution_count": null,
   "metadata": {},
   "outputs": [],
   "source": [
    "summarizer = TextRankSummarizer()\n",
    "summarizer.stop_words = Utils.load_stop_words()\n",
    "summary = summarizer(parser.document, summary_length)\n",
    "\n",
    "p_sum1 = \"\"\n",
    "for sentence in summary:\n",
    "    p_sum1 += str(sentence) + \" \"\n",
    "\n",
    "f = open(\"predicted_summary_textrank.txt\", 'w', encoding='utf-8')\n",
    "for sentence in summary:\n",
    "    print(str(sentence) + '\\n')\n",
    "    f.write(str(sentence))\n",
    "f.close()\n",
    "\n"
   ]
  },
  {
   "cell_type": "code",
   "execution_count": null,
   "metadata": {},
   "outputs": [],
   "source": [
    "print(\"Final Rouge Score: \", Utils.calculate_rouge(p_sum1, ref_sum, 1))"
   ]
  },
  {
   "cell_type": "code",
   "execution_count": null,
   "metadata": {},
   "outputs": [],
   "source": []
  }
 ],
 "metadata": {
  "kernelspec": {
   "display_name": "Python 3",
   "language": "python",
   "name": "python3"
  },
  "language_info": {
   "codemirror_mode": {
    "name": "ipython",
    "version": 3
   },
   "file_extension": ".py",
   "mimetype": "text/x-python",
   "name": "python",
   "nbconvert_exporter": "python",
   "pygments_lexer": "ipython3",
   "version": "3.7.3"
  }
 },
 "nbformat": 4,
 "nbformat_minor": 2
}
